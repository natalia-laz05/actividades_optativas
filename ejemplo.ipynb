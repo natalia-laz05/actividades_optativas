{
 "cells": [
  {
   "cell_type": "markdown",
   "metadata": {},
   "source": [
    "# Mi primer Notebook!"
   ]
  },
  {
   "cell_type": "markdown",
   "metadata": {},
   "source": [
    "2doB. Lázaro Bermúdez, Natalia\n"
   ]
  },
  {
   "cell_type": "markdown",
   "metadata": {},
   "source": []
  },
  {
   "cell_type": "code",
   "execution_count": 3,
   "metadata": {},
   "outputs": [
    {
     "name": "stdout",
     "output_type": "stream",
     "text": [
      "Hola Mundo\n"
     ]
    }
   ],
   "source": [
    "print(\"Hola Mundo\") "
   ]
  },
  {
   "cell_type": "markdown",
   "metadata": {},
   "source": [
    "## Mis primeros descriptivos con Pandas"
   ]
  },
  {
   "cell_type": "markdown",
   "metadata": {},
   "source": [
    "Importa la librería pandas y la asigna al alias pd para usarla de manera más corta"
   ]
  },
  {
   "cell_type": "code",
   "execution_count": 1,
   "metadata": {},
   "outputs": [],
   "source": [
    "# Importa la librería pandas, utilizada para la manipulación y análisis de datos.\n",
    "import pandas"
   ]
  },
  {
   "cell_type": "markdown",
   "metadata": {},
   "source": [
    "Crea un DataFrame de pandas a partir de los datos y lo asigna a la variable df"
   ]
  },
  {
   "cell_type": "code",
   "execution_count": 2,
   "metadata": {},
   "outputs": [],
   "source": [
    "# Crea un diccionario llamado 'datos' con dos listas: una para edades y otra para pesos.\n",
    "datos = { \n",
    "    'edad': [8, 9, 10, 11, 12],  # Lista de edades\n",
    "    'peso': [30, 32, 35, 37, 40]  # Lista de pesos\n",
    "}\n",
    "\n",
    "# Convierte el diccionario 'datos' en un DataFrame de pandas, asignándolo a la variable 'df'.\n",
    "df = pandas.DataFrame(datos)"
   ]
  },
  {
   "cell_type": "markdown",
   "metadata": {},
   "source": [
    "Calcula la media y desviación estándar de las columnas 'edad' y 'peso' en df"
   ]
  },
  {
   "cell_type": "code",
   "execution_count": 3,
   "metadata": {},
   "outputs": [
    {
     "name": "stdout",
     "output_type": "stream",
     "text": [
      "Media de Edad: 10.0\n",
      "Desviación Típica de Edad: 1.5811388300841898\n",
      "Media de peso: 34.8\n",
      "Desviación Típica de Peso: 3.9623225512317903\n"
     ]
    }
   ],
   "source": [
    "# Calcula la media de la columna 'edad' en el DataFrame 'df' y la guarda en 'media_edad'.\n",
    "media_edad = df['edad'].mean()\n",
    "\n",
    "# Calcula la desviación estándar de la columna 'edad' en el DataFrame 'df' y la guarda en 'desviacion_tipica_edad'.\n",
    "desviacion_tipica_edad = df['edad'].std()\n",
    "\n",
    "# Calcula la media de la columna 'peso' en el DataFrame 'df' y la guarda en 'media_peso'.\n",
    "media_peso = df['peso'].mean()\n",
    "\n",
    "# Calcula la desviación estándar de la columna 'peso' en el DataFrame 'df' y la guarda en 'desviacion_tipica_peso'.\n",
    "desviacion_tipica_peso = df['peso'].std()\n",
    "\n",
    "# Imprime la media de la edad.\n",
    "print(\"Media de Edad:\", media_edad)\n",
    "\n",
    "# Imprime la desviación típica de la edad.\n",
    "print(\"Desviación Típica de Edad:\", desviacion_tipica_edad)\n",
    "\n",
    "# Imprime la media del peso.\n",
    "print(\"Media de peso:\", media_peso)\n",
    "\n",
    "# Imprime la desviación típica del peso.\n",
    "print(\"Desviación Típica de Peso:\", desviacion_tipica_peso)\n"
   ]
  }
 ],
 "metadata": {
  "kernelspec": {
   "display_name": ".venv",
   "language": "python",
   "name": "python3"
  },
  "language_info": {
   "codemirror_mode": {
    "name": "ipython",
    "version": 3
   },
   "file_extension": ".py",
   "mimetype": "text/x-python",
   "name": "python",
   "nbconvert_exporter": "python",
   "pygments_lexer": "ipython3",
   "version": "3.9.6"
  }
 },
 "nbformat": 4,
 "nbformat_minor": 2
}
